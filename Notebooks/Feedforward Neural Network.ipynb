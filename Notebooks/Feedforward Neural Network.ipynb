{
 "cells": [
  {
   "cell_type": "code",
   "execution_count": 2,
   "id": "bf4ca071-48e7-4bdc-9bcc-ba973aacbd29",
   "metadata": {},
   "outputs": [],
   "source": [
    "# Cell 1: Import Libraries\n",
    "import pandas as pd\n",
    "import numpy as np\n",
    "import matplotlib.pyplot as plt\n",
    "\n",
    "import torch\n",
    "import torch.nn as nn\n",
    "import torch.optim as optim\n",
    "\n",
    "import tqdm\n",
    "from sklearn.model_selection import train_test_split\n",
    "import copy\n"
   ]
  },
  {
   "cell_type": "code",
   "execution_count": 17,
   "id": "67fbb734-9d1f-4fb7-997c-8fc47a1ee2ec",
   "metadata": {},
   "outputs": [],
   "source": [
    "# Load and Prepare the Data\n",
    "df = pd.read_csv('../Dataset/Walmart.csv')\n",
    "X, Y = df[['Holiday_Flag', 'Temperature', 'Fuel_Price', 'CPI', 'Unemployment']].to_numpy(), df['Weekly_Sales'].to_numpy()\n",
    "\n",
    "X_train, X_test, y_train, y_test = train_test_split(X, Y, train_size=0.7, shuffle=True)\n",
    "X_train = torch.tensor(X_train, dtype=torch.float32)\n",
    "y_train = torch.tensor(y_train, dtype=torch.float32).reshape(-1, 1)\n",
    "X_test = torch.tensor(X_test, dtype=torch.float32)\n",
    "y_test = torch.tensor(y_test, dtype=torch.float32).reshape(-1, 1)\n"
   ]
  },
  {
   "cell_type": "code",
   "execution_count": 18,
   "id": "070c069b-e3ec-4589-9d6f-1f2a39fe637c",
   "metadata": {},
   "outputs": [],
   "source": [
    "#  Define the Neural network model\n",
    "model = nn.Sequential(\n",
    "    nn.Linear(5, 24),\n",
    "    nn.ReLU(),\n",
    "    nn.Linear(24, 12),\n",
    "    nn.ReLU(),\n",
    "    nn.Linear(12, 6),\n",
    "    nn.ReLU(),\n",
    "    nn.Linear(6, 1)\n",
    ")\n",
    "\n",
    "loss_fn = nn.MSELoss()\n",
    "optimizer = optim.Adam(model.parameters(), lr=0.0001)\n"
   ]
  },
  {
   "cell_type": "code",
   "execution_count": 19,
   "id": "25627602-710b-48b2-8ef4-cd6380fcdfa0",
   "metadata": {},
   "outputs": [],
   "source": [
    "# Training Loop\n",
    "n_epochs = 100\n",
    "batch_size = 8\n",
    "batch_start = torch.arange(0, len(X_train), batch_size)\n",
    "\n",
    "best_mse = np.inf\n",
    "best_weights = None\n",
    "history = []\n",
    "\n",
    "for epoch in range(n_epochs):\n",
    "    model.train()\n",
    "    with tqdm.tqdm(batch_start, unit=\"batch\", mininterval=0, disable=True) as bar:\n",
    "        bar.set_description(f\"Epoch {epoch}\")\n",
    "        for start in bar:\n",
    "            X_batch = X_train[start:start+batch_size]\n",
    "            y_batch = y_train[start:start+batch_size]\n",
    "            y_pred = model(X_batch)\n",
    "            loss = torch.sqrt(loss_fn(y_pred, y_batch))\n",
    "            optimizer.zero_grad()\n",
    "            loss.backward()\n",
    "            optimizer.step()\n",
    "            bar.set_postfix(mse=float(loss))\n",
    "\n",
    "    model.eval()\n",
    "    y_pred = model(X_test)\n",
    "    mse = loss_fn(y_pred, y_test)\n",
    "    mse = float(mse)\n",
    "    history.append(mse)\n",
    "    if mse < best_mse:\n",
    "        best_mse = mse\n",
    "        best_weights = copy.deepcopy(model.state_dict())\n"
   ]
  },
  {
   "cell_type": "code",
   "execution_count": 20,
   "id": "a2a91012-f2dd-4bfb-aebe-4e6b9815ba37",
   "metadata": {},
   "outputs": [
    {
     "name": "stdout",
     "output_type": "stream",
     "text": [
      "RMSE on Test Set: 625223.31\n"
     ]
    }
   ],
   "source": [
    "# Load Best Model and Print RMSE on Test Set\n",
    "model.load_state_dict(best_weights)\n",
    "print(\"RMSE on Test Set: %.2f\" % np.sqrt(best_mse))"
   ]
  },
  {
   "cell_type": "code",
   "execution_count": 21,
   "id": "ffc2593a-0ed8-4d50-8441-d1995bfd01ff",
   "metadata": {},
   "outputs": [
    {
     "data": {
      "image/png": "[encoded data removed]",
      "text/plain": [
       "<Figure size 640x480 with 1 Axes>"
      ]
     },
     "metadata": {},
     "output_type": "display_data"
    }
   ],
   "source": [
    "# Plot the training and test set RMSE history\n",
    "plt.plot(history, label='Test RMSE')\n",
    "plt.xlabel('Epoch')\n",
    "plt.ylabel('RMSE')\n",
    "plt.legend()\n",
    "plt.show()"
   ]
  },
  {
   "cell_type": "code",
   "execution_count": 22,
   "id": "86247d09-853b-4f99-a9a1-17b0573009ed",
   "metadata": {},
   "outputs": [
    {
     "name": "stdout",
     "output_type": "stream",
     "text": [
      "Actual Sales: 1183528.625 | Predicted Sales: 992327.6875\n",
      "Actual Sales: 479256.8125 | Predicted Sales: 927402.625\n",
      "Actual Sales: 1405007.5 | Predicted Sales: 816893.9375\n",
      "Actual Sales: 593141.3125 | Predicted Sales: 1243035.75\n",
      "Actual Sales: 286347.25 | Predicted Sales: 1086260.75\n"
     ]
    }
   ],
   "source": [
    "# Make Predictions for Test Data\n",
    "model.eval()\n",
    "y_pred_test = model(X_test[:5])\n",
    "for i in range(5):\n",
    "    print(\"Actual Sales:\", float(y_test[i]), \"| Predicted Sales:\", float(y_pred_test[i]))"
   ]
  },
  {
   "cell_type": "code",
   "execution_count": 23,
   "id": "8bbf5d75-e148-4ebd-b520-6aedbbfbf946",
   "metadata": {},
   "outputs": [
    {
     "name": "stdout",
     "output_type": "stream",
     "text": [
      "Predicted Sales for New Data: 1216239.25\n"
     ]
    }
   ],
   "source": [
    "X_new = torch.tensor([[1, 70, 3.50, 220, 7.5]], dtype=torch.float32)\n",
    "y_pred_new = model(X_new)\n",
    "print(\"Predicted Sales for New Data:\", float(y_pred_new))"
   ]
  },
  {
   "cell_type": "code",
   "execution_count": 24,
   "id": "5bcd22ee-7328-4fe6-8bdf-30adb63b7bcb",
   "metadata": {},
   "outputs": [
    {
     "name": "stdout",
     "output_type": "stream",
     "text": [
      "Number of lines in the test set: 1931\n"
     ]
    }
   ],
   "source": [
    "num_lines_test_set = len(X_test)\n",
    "print(\"Number of lines in the test set:\", num_lines_test_set)"
   ]
  },
  {
   "cell_type": "code",
   "execution_count": 25,
   "id": "1aa5396d-1e07-4928-a254-295a7813e9fe",
   "metadata": {},
   "outputs": [
    {
     "name": "stdout",
     "output_type": "stream",
     "text": [
      "Number of lines in the training set: 4504\n"
     ]
    }
   ],
   "source": [
    "num_lines_train_set = len(X_train)\n",
    "print(\"Number of lines in the training set:\", num_lines_train_set)"
   ]
  },
  {
   "cell_type": "code",
   "execution_count": null,
   "id": "22de575f-507b-4058-bafc-758bc8725076",
   "metadata": {},
   "outputs": [],
   "source": []
  }
 ],
 "metadata": {
  "kernelspec": {
   "display_name": "model",
   "language": "python",
   "name": "model"
  },
  "language_info": {
   "codemirror_mode": {
    "name": "ipython",
    "version": 3
   },
   "file_extension": ".py",
   "mimetype": "text/x-python",
   "name": "python",
   "nbconvert_exporter": "python",
   "pygments_lexer": "ipython3",
   "version": "3.11.6"
  }
 },
 "nbformat": 4,
 "nbformat_minor": 5
}
